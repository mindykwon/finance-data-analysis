{
 "cells": [
  {
   "cell_type": "markdown",
   "metadata": {},
   "source": [
    "# 해외 주가 데이터(tiingo api)"
   ]
  },
  {
   "cell_type": "code",
   "execution_count": 8,
   "metadata": {},
   "outputs": [
    {
     "data": {
      "text/html": [
       "<div>\n",
       "<style scoped>\n",
       "    .dataframe tbody tr th:only-of-type {\n",
       "        vertical-align: middle;\n",
       "    }\n",
       "\n",
       "    .dataframe tbody tr th {\n",
       "        vertical-align: top;\n",
       "    }\n",
       "\n",
       "    .dataframe thead th {\n",
       "        text-align: right;\n",
       "    }\n",
       "</style>\n",
       "<table border=\"1\" class=\"dataframe\">\n",
       "  <thead>\n",
       "    <tr style=\"text-align: right;\">\n",
       "      <th></th>\n",
       "      <th></th>\n",
       "      <th>close</th>\n",
       "      <th>high</th>\n",
       "      <th>low</th>\n",
       "      <th>open</th>\n",
       "      <th>volume</th>\n",
       "      <th>adjClose</th>\n",
       "      <th>adjHigh</th>\n",
       "      <th>adjLow</th>\n",
       "      <th>adjOpen</th>\n",
       "      <th>adjVolume</th>\n",
       "      <th>divCash</th>\n",
       "      <th>splitFactor</th>\n",
       "    </tr>\n",
       "    <tr>\n",
       "      <th>symbol</th>\n",
       "      <th>date</th>\n",
       "      <th></th>\n",
       "      <th></th>\n",
       "      <th></th>\n",
       "      <th></th>\n",
       "      <th></th>\n",
       "      <th></th>\n",
       "      <th></th>\n",
       "      <th></th>\n",
       "      <th></th>\n",
       "      <th></th>\n",
       "      <th></th>\n",
       "      <th></th>\n",
       "    </tr>\n",
       "  </thead>\n",
       "  <tbody>\n",
       "    <tr>\n",
       "      <th rowspan=\"5\" valign=\"top\">NVDA</th>\n",
       "      <th>2015-12-28 00:00:00+00:00</th>\n",
       "      <td>33.14</td>\n",
       "      <td>33.14</td>\n",
       "      <td>32.36</td>\n",
       "      <td>32.82</td>\n",
       "      <td>3550703</td>\n",
       "      <td>32.427758</td>\n",
       "      <td>32.427758</td>\n",
       "      <td>31.664521</td>\n",
       "      <td>32.114635</td>\n",
       "      <td>3550703</td>\n",
       "      <td>0.0</td>\n",
       "      <td>1.0</td>\n",
       "    </tr>\n",
       "    <tr>\n",
       "      <th>2015-12-29 00:00:00+00:00</th>\n",
       "      <td>33.68</td>\n",
       "      <td>33.78</td>\n",
       "      <td>33.07</td>\n",
       "      <td>33.16</td>\n",
       "      <td>5091512</td>\n",
       "      <td>32.956152</td>\n",
       "      <td>33.054003</td>\n",
       "      <td>32.359262</td>\n",
       "      <td>32.447328</td>\n",
       "      <td>5091512</td>\n",
       "      <td>0.0</td>\n",
       "      <td>1.0</td>\n",
       "    </tr>\n",
       "    <tr>\n",
       "      <th>2015-12-30 00:00:00+00:00</th>\n",
       "      <td>33.39</td>\n",
       "      <td>33.94</td>\n",
       "      <td>33.38</td>\n",
       "      <td>33.65</td>\n",
       "      <td>4508570</td>\n",
       "      <td>32.672385</td>\n",
       "      <td>33.210564</td>\n",
       "      <td>32.662600</td>\n",
       "      <td>32.926797</td>\n",
       "      <td>4508570</td>\n",
       "      <td>0.0</td>\n",
       "      <td>1.0</td>\n",
       "    </tr>\n",
       "    <tr>\n",
       "      <th>2015-12-31 00:00:00+00:00</th>\n",
       "      <td>32.96</td>\n",
       "      <td>33.49</td>\n",
       "      <td>32.96</td>\n",
       "      <td>33.34</td>\n",
       "      <td>3713202</td>\n",
       "      <td>32.251626</td>\n",
       "      <td>32.770236</td>\n",
       "      <td>32.251626</td>\n",
       "      <td>32.623459</td>\n",
       "      <td>3713202</td>\n",
       "      <td>0.0</td>\n",
       "      <td>1.0</td>\n",
       "    </tr>\n",
       "    <tr>\n",
       "      <th>2016-01-04 00:00:00+00:00</th>\n",
       "      <td>32.37</td>\n",
       "      <td>32.58</td>\n",
       "      <td>32.04</td>\n",
       "      <td>32.29</td>\n",
       "      <td>8951907</td>\n",
       "      <td>31.674307</td>\n",
       "      <td>31.879793</td>\n",
       "      <td>31.351399</td>\n",
       "      <td>31.596026</td>\n",
       "      <td>8951907</td>\n",
       "      <td>0.0</td>\n",
       "      <td>1.0</td>\n",
       "    </tr>\n",
       "  </tbody>\n",
       "</table>\n",
       "</div>"
      ],
      "text/plain": [
       "                                  close   high    low   open   volume  \\\n",
       "symbol date                                                             \n",
       "NVDA   2015-12-28 00:00:00+00:00  33.14  33.14  32.36  32.82  3550703   \n",
       "       2015-12-29 00:00:00+00:00  33.68  33.78  33.07  33.16  5091512   \n",
       "       2015-12-30 00:00:00+00:00  33.39  33.94  33.38  33.65  4508570   \n",
       "       2015-12-31 00:00:00+00:00  32.96  33.49  32.96  33.34  3713202   \n",
       "       2016-01-04 00:00:00+00:00  32.37  32.58  32.04  32.29  8951907   \n",
       "\n",
       "                                   adjClose    adjHigh     adjLow    adjOpen  \\\n",
       "symbol date                                                                    \n",
       "NVDA   2015-12-28 00:00:00+00:00  32.427758  32.427758  31.664521  32.114635   \n",
       "       2015-12-29 00:00:00+00:00  32.956152  33.054003  32.359262  32.447328   \n",
       "       2015-12-30 00:00:00+00:00  32.672385  33.210564  32.662600  32.926797   \n",
       "       2015-12-31 00:00:00+00:00  32.251626  32.770236  32.251626  32.623459   \n",
       "       2016-01-04 00:00:00+00:00  31.674307  31.879793  31.351399  31.596026   \n",
       "\n",
       "                                  adjVolume  divCash  splitFactor  \n",
       "symbol date                                                        \n",
       "NVDA   2015-12-28 00:00:00+00:00    3550703      0.0          1.0  \n",
       "       2015-12-29 00:00:00+00:00    5091512      0.0          1.0  \n",
       "       2015-12-30 00:00:00+00:00    4508570      0.0          1.0  \n",
       "       2015-12-31 00:00:00+00:00    3713202      0.0          1.0  \n",
       "       2016-01-04 00:00:00+00:00    8951907      0.0          1.0  "
      ]
     },
     "execution_count": 8,
     "metadata": {},
     "output_type": "execute_result"
    }
   ],
   "source": [
    "# ticker = 'NVDA', Nvidia\n",
    "import pandas_datareader as pdr\n",
    "\n",
    "TINGO_API_KEY = 'e4212ffcedd26ed770be99de9f4185227eda31d5'\n",
    "df = pdr.get_data_tiingo('NVDA', api_key=TINGO_API_KEY)\n",
    "df.head()"
   ]
  },
  {
   "cell_type": "code",
   "execution_count": 9,
   "metadata": {},
   "outputs": [
    {
     "data": {
      "text/plain": [
       "<AxesSubplot:xlabel='date', ylabel='adjClose'>"
      ]
     },
     "execution_count": 9,
     "metadata": {},
     "output_type": "execute_result"
    },
    {
     "data": {
      "image/png": "[encoded data removed]",
      "text/plain": [
       "<Figure size 432x288 with 1 Axes>"
      ]
     },
     "metadata": {
      "needs_background": "light"
     },
     "output_type": "display_data"
    }
   ],
   "source": [
    "import seaborn as sns\n",
    "sns.lineplot(x=df.index.levels[1], y=\"adjClose\", data=df)"
   ]
  },
  {
   "cell_type": "markdown",
   "metadata": {},
   "source": [
    "# 국내외 주가 지수 데이터(stooq)"
   ]
  },
  {
   "cell_type": "code",
   "execution_count": 13,
   "metadata": {},
   "outputs": [
    {
     "data": {
      "text/plain": [
       "<AxesSubplot:xlabel='Date', ylabel='Close'>"
      ]
     },
     "execution_count": 13,
     "metadata": {},
     "output_type": "execute_result"
    },
    {
     "data": {
      "image/png": "[encoded data removed]",
      "text/plain": [
       "<Figure size 432x288 with 1 Axes>"
      ]
     },
     "metadata": {
      "needs_background": "light"
     },
     "output_type": "display_data"
    }
   ],
   "source": [
    "# 코스피 지수\n",
    "import pandas_datareader.data as web\n",
    "\n",
    "df = web.DataReader('^KOSPI', 'stooq')\n",
    "sns.lineplot(x=df.index, y=\"Close\", data=df)"
   ]
  },
  {
   "cell_type": "markdown",
   "metadata": {},
   "source": [
    "# 환율 데이터(Alpha Vantage api)"
   ]
  },
  {
   "cell_type": "code",
   "execution_count": 16,
   "metadata": {},
   "outputs": [
    {
     "data": {
      "text/html": [
       "<div>\n",
       "<style scoped>\n",
       "    .dataframe tbody tr th:only-of-type {\n",
       "        vertical-align: middle;\n",
       "    }\n",
       "\n",
       "    .dataframe tbody tr th {\n",
       "        vertical-align: top;\n",
       "    }\n",
       "\n",
       "    .dataframe thead th {\n",
       "        text-align: right;\n",
       "    }\n",
       "</style>\n",
       "<table border=\"1\" class=\"dataframe\">\n",
       "  <thead>\n",
       "    <tr style=\"text-align: right;\">\n",
       "      <th></th>\n",
       "      <th>USD/KRW</th>\n",
       "    </tr>\n",
       "  </thead>\n",
       "  <tbody>\n",
       "    <tr>\n",
       "      <th>From_Currency Code</th>\n",
       "      <td>USD</td>\n",
       "    </tr>\n",
       "    <tr>\n",
       "      <th>From_Currency Name</th>\n",
       "      <td>United States Dollar</td>\n",
       "    </tr>\n",
       "    <tr>\n",
       "      <th>To_Currency Code</th>\n",
       "      <td>KRW</td>\n",
       "    </tr>\n",
       "    <tr>\n",
       "      <th>To_Currency Name</th>\n",
       "      <td>South Korean Won</td>\n",
       "    </tr>\n",
       "    <tr>\n",
       "      <th>Exchange Rate</th>\n",
       "      <td>1099.89000000</td>\n",
       "    </tr>\n",
       "  </tbody>\n",
       "</table>\n",
       "</div>"
      ],
      "text/plain": [
       "                                 USD/KRW\n",
       "From_Currency Code                   USD\n",
       "From_Currency Name  United States Dollar\n",
       "To_Currency Code                     KRW\n",
       "To_Currency Name        South Korean Won\n",
       "Exchange Rate              1099.89000000"
      ]
     },
     "execution_count": 16,
     "metadata": {},
     "output_type": "execute_result"
    }
   ],
   "source": [
    "#원달러 환율(From/To)\n",
    "import pandas_datareader.data as web\n",
    "\n",
    "ALPHAVANTAGE_API_KEY = \"AFSHU504VMOBYQWQ\"\n",
    "df_1 = web.DataReader(\"USD/KRW\", \"av-forex\", api_key = ALPHAVANTAGE_API_KEY)\n",
    "df_1.head()"
   ]
  },
  {
   "cell_type": "markdown",
   "metadata": {},
   "source": [
    "## 일자별 환율"
   ]
  },
  {
   "cell_type": "code",
   "execution_count": 33,
   "metadata": {},
   "outputs": [
    {
     "data": {
      "text/html": [
       "<div>\n",
       "<style scoped>\n",
       "    .dataframe tbody tr th:only-of-type {\n",
       "        vertical-align: middle;\n",
       "    }\n",
       "\n",
       "    .dataframe tbody tr th {\n",
       "        vertical-align: top;\n",
       "    }\n",
       "\n",
       "    .dataframe thead th {\n",
       "        text-align: right;\n",
       "    }\n",
       "</style>\n",
       "<table border=\"1\" class=\"dataframe\">\n",
       "  <thead>\n",
       "    <tr style=\"text-align: right;\">\n",
       "      <th></th>\n",
       "      <th>1. open</th>\n",
       "      <th>2. high</th>\n",
       "      <th>3. low</th>\n",
       "      <th>4. close</th>\n",
       "    </tr>\n",
       "  </thead>\n",
       "  <tbody>\n",
       "    <tr>\n",
       "      <th>2020-12-25</th>\n",
       "      <td>1099.9100</td>\n",
       "      <td>1100.0000</td>\n",
       "      <td>1099.7000</td>\n",
       "      <td>1099.7600</td>\n",
       "    </tr>\n",
       "    <tr>\n",
       "      <th>2020-12-24</th>\n",
       "      <td>1106.6200</td>\n",
       "      <td>1106.7100</td>\n",
       "      <td>1099.7700</td>\n",
       "      <td>1101.5900</td>\n",
       "    </tr>\n",
       "    <tr>\n",
       "      <th>2020-12-23</th>\n",
       "      <td>1109.7200</td>\n",
       "      <td>1110.4000</td>\n",
       "      <td>1103.7400</td>\n",
       "      <td>1106.6100</td>\n",
       "    </tr>\n",
       "    <tr>\n",
       "      <th>2020-12-22</th>\n",
       "      <td>1102.5500</td>\n",
       "      <td>1110.1400</td>\n",
       "      <td>1101.0900</td>\n",
       "      <td>1109.7100</td>\n",
       "    </tr>\n",
       "    <tr>\n",
       "      <th>2020-12-21</th>\n",
       "      <td>1098.9700</td>\n",
       "      <td>1112.1200</td>\n",
       "      <td>1097.5900</td>\n",
       "      <td>1102.5600</td>\n",
       "    </tr>\n",
       "  </tbody>\n",
       "</table>\n",
       "</div>"
      ],
      "text/plain": [
       "              1. open    2. high     3. low   4. close\n",
       "2020-12-25  1099.9100  1100.0000  1099.7000  1099.7600\n",
       "2020-12-24  1106.6200  1106.7100  1099.7700  1101.5900\n",
       "2020-12-23  1109.7200  1110.4000  1103.7400  1106.6100\n",
       "2020-12-22  1102.5500  1110.1400  1101.0900  1109.7100\n",
       "2020-12-21  1098.9700  1112.1200  1097.5900  1102.5600"
      ]
     },
     "execution_count": 33,
     "metadata": {},
     "output_type": "execute_result"
    }
   ],
   "source": [
    "from urllib.request import urlopen\n",
    "import json\n",
    "import pandas as pd\n",
    "\n",
    "url = \"https://www.alphavantage.co/query?function=FX_DAILY&from_symbol=USD&to_symbol=KRW&outputsize=compact&apikey=\"+ALPHAVANTAGE_API_KEY\n",
    "result = urlopen(url)\n",
    "result_read = result.read()\n",
    "\n",
    "result_read\n",
    "df = pd.DataFrame(json.loads(result_read)[\"Time Series FX (Daily)\"]).T\n",
    "df.head()"
   ]
  },
  {
   "cell_type": "markdown",
   "metadata": {},
   "source": [
    "# 원자재 가격 데이터(FRED)"
   ]
  },
  {
   "cell_type": "code",
   "execution_count": 38,
   "metadata": {},
   "outputs": [
    {
     "data": {
      "text/html": [
       "<div>\n",
       "<style scoped>\n",
       "    .dataframe tbody tr th:only-of-type {\n",
       "        vertical-align: middle;\n",
       "    }\n",
       "\n",
       "    .dataframe tbody tr th {\n",
       "        vertical-align: top;\n",
       "    }\n",
       "\n",
       "    .dataframe thead th {\n",
       "        text-align: right;\n",
       "    }\n",
       "</style>\n",
       "<table border=\"1\" class=\"dataframe\">\n",
       "  <thead>\n",
       "    <tr style=\"text-align: right;\">\n",
       "      <th></th>\n",
       "      <th>DCOILWTICO</th>\n",
       "    </tr>\n",
       "    <tr>\n",
       "      <th>DATE</th>\n",
       "      <th></th>\n",
       "    </tr>\n",
       "  </thead>\n",
       "  <tbody>\n",
       "    <tr>\n",
       "      <th>2015-01-01</th>\n",
       "      <td>NaN</td>\n",
       "    </tr>\n",
       "    <tr>\n",
       "      <th>2015-01-02</th>\n",
       "      <td>52.72</td>\n",
       "    </tr>\n",
       "    <tr>\n",
       "      <th>2015-01-05</th>\n",
       "      <td>50.05</td>\n",
       "    </tr>\n",
       "    <tr>\n",
       "      <th>2015-01-06</th>\n",
       "      <td>47.98</td>\n",
       "    </tr>\n",
       "    <tr>\n",
       "      <th>2015-01-07</th>\n",
       "      <td>48.69</td>\n",
       "    </tr>\n",
       "  </tbody>\n",
       "</table>\n",
       "</div>"
      ],
      "text/plain": [
       "            DCOILWTICO\n",
       "DATE                  \n",
       "2015-01-01         NaN\n",
       "2015-01-02       52.72\n",
       "2015-01-05       50.05\n",
       "2015-01-06       47.98\n",
       "2015-01-07       48.69"
      ]
     },
     "execution_count": 38,
     "metadata": {},
     "output_type": "execute_result"
    }
   ],
   "source": [
    "# 원유 가격(DCOILWTICO)\n",
    "import pandas_datareader.data as web\n",
    "import datetime\n",
    "\n",
    "start = datetime.datetime(2015, 1, 1)\n",
    "end = datetime.datetime(2020, 12, 25)\n",
    "\n",
    "oil = web.DataReader('DCOILWTICO', 'fred', start, end)\n",
    "oil.head()"
   ]
  },
  {
   "cell_type": "markdown",
   "metadata": {},
   "source": [
    "# GDP(Word Bank)"
   ]
  },
  {
   "cell_type": "code",
   "execution_count": 39,
   "metadata": {},
   "outputs": [
    {
     "data": {
      "text/html": [
       "<div>\n",
       "<style scoped>\n",
       "    .dataframe tbody tr th:only-of-type {\n",
       "        vertical-align: middle;\n",
       "    }\n",
       "\n",
       "    .dataframe tbody tr th {\n",
       "        vertical-align: top;\n",
       "    }\n",
       "\n",
       "    .dataframe thead th {\n",
       "        text-align: right;\n",
       "    }\n",
       "</style>\n",
       "<table border=\"1\" class=\"dataframe\">\n",
       "  <thead>\n",
       "    <tr style=\"text-align: right;\">\n",
       "      <th></th>\n",
       "      <th>id</th>\n",
       "      <th>name</th>\n",
       "      <th>unit</th>\n",
       "      <th>source</th>\n",
       "      <th>sourceNote</th>\n",
       "      <th>sourceOrganization</th>\n",
       "      <th>topics</th>\n",
       "    </tr>\n",
       "  </thead>\n",
       "  <tbody>\n",
       "    <tr>\n",
       "      <th>680</th>\n",
       "      <td>6.0.GDPpc_constant</td>\n",
       "      <td>GDP per capita, PPP (constant 2011 internation...</td>\n",
       "      <td></td>\n",
       "      <td>LAC Equity Lab</td>\n",
       "      <td>GDP per capita based on purchasing power parit...</td>\n",
       "      <td>b'World Development Indicators (World Bank)'</td>\n",
       "      <td>Economy &amp; Growth</td>\n",
       "    </tr>\n",
       "    <tr>\n",
       "      <th>9266</th>\n",
       "      <td>NY.GDP.PCAP.KD</td>\n",
       "      <td>GDP per capita (constant 2010 US$)</td>\n",
       "      <td></td>\n",
       "      <td>World Development Indicators</td>\n",
       "      <td>GDP per capita is gross domestic product divid...</td>\n",
       "      <td>b'World Bank national accounts data, and OECD ...</td>\n",
       "      <td>Economy &amp; Growth</td>\n",
       "    </tr>\n",
       "    <tr>\n",
       "      <th>9268</th>\n",
       "      <td>NY.GDP.PCAP.KN</td>\n",
       "      <td>GDP per capita (constant LCU)</td>\n",
       "      <td></td>\n",
       "      <td>World Development Indicators</td>\n",
       "      <td>GDP per capita is gross domestic product divid...</td>\n",
       "      <td>b'World Bank national accounts data, and OECD ...</td>\n",
       "      <td>Economy &amp; Growth</td>\n",
       "    </tr>\n",
       "    <tr>\n",
       "      <th>9270</th>\n",
       "      <td>NY.GDP.PCAP.PP.KD</td>\n",
       "      <td>GDP per capita, PPP (constant 2017 internation...</td>\n",
       "      <td></td>\n",
       "      <td>World Development Indicators</td>\n",
       "      <td>GDP per capita based on purchasing power parit...</td>\n",
       "      <td>b'International Comparison Program, World Bank...</td>\n",
       "      <td>Economy &amp; Growth</td>\n",
       "    </tr>\n",
       "    <tr>\n",
       "      <th>9271</th>\n",
       "      <td>NY.GDP.PCAP.PP.KD.87</td>\n",
       "      <td>GDP per capita, PPP (constant 1987 internation...</td>\n",
       "      <td></td>\n",
       "      <td>WDI Database Archives</td>\n",
       "      <td></td>\n",
       "      <td>b''</td>\n",
       "      <td></td>\n",
       "    </tr>\n",
       "  </tbody>\n",
       "</table>\n",
       "</div>"
      ],
      "text/plain": [
       "                        id                                               name  \\\n",
       "680     6.0.GDPpc_constant  GDP per capita, PPP (constant 2011 internation...   \n",
       "9266        NY.GDP.PCAP.KD                 GDP per capita (constant 2010 US$)   \n",
       "9268        NY.GDP.PCAP.KN                      GDP per capita (constant LCU)   \n",
       "9270     NY.GDP.PCAP.PP.KD  GDP per capita, PPP (constant 2017 internation...   \n",
       "9271  NY.GDP.PCAP.PP.KD.87  GDP per capita, PPP (constant 1987 internation...   \n",
       "\n",
       "     unit                        source  \\\n",
       "680                      LAC Equity Lab   \n",
       "9266       World Development Indicators   \n",
       "9268       World Development Indicators   \n",
       "9270       World Development Indicators   \n",
       "9271              WDI Database Archives   \n",
       "\n",
       "                                             sourceNote  \\\n",
       "680   GDP per capita based on purchasing power parit...   \n",
       "9266  GDP per capita is gross domestic product divid...   \n",
       "9268  GDP per capita is gross domestic product divid...   \n",
       "9270  GDP per capita based on purchasing power parit...   \n",
       "9271                                                      \n",
       "\n",
       "                                     sourceOrganization            topics  \n",
       "680        b'World Development Indicators (World Bank)'  Economy & Growth  \n",
       "9266  b'World Bank national accounts data, and OECD ...  Economy & Growth  \n",
       "9268  b'World Bank national accounts data, and OECD ...  Economy & Growth  \n",
       "9270  b'International Comparison Program, World Bank...  Economy & Growth  \n",
       "9271                                                b''                    "
      ]
     },
     "execution_count": 39,
     "metadata": {},
     "output_type": "execute_result"
    }
   ],
   "source": [
    "from pandas_datareader import wb\n",
    "\n",
    "wb.search('gdp.*capita.*const')"
   ]
  },
  {
   "cell_type": "code",
   "execution_count": 90,
   "metadata": {},
   "outputs": [
    {
     "data": {
      "text/plain": [
       "<AxesSubplot:xlabel='year', ylabel='NY.GDP.PCAP.PP.KD'>"
      ]
     },
     "execution_count": 90,
     "metadata": {},
     "output_type": "execute_result"
    },
    {
     "data": {
      "image/png": "[encoded data removed]",
      "text/plain": [
       "<Figure size 432x288 with 1 Axes>"
      ]
     },
     "metadata": {
      "needs_background": "light"
     },
     "output_type": "display_data"
    }
   ],
   "source": [
    "# 한국, 일본 구매력 기준 1인당 국민 소득 그래프\n",
    "code = \"NY.GDP.PCAP.PP.KD\"\n",
    "matches = wb.search('gdp/*capita.*const')\n",
    "data = wb.download(indicator=code, country=['JPN', 'KOR'], start=2011, end=2020)\n",
    "data = data.reset_index(drop=False)\n",
    "data = data.sort_values(by='year')\n",
    "sns.lineplot(x='year', y=code, hue=\"country\", data=data)"
   ]
  },
  {
   "cell_type": "markdown",
   "metadata": {},
   "source": [
    "# 국내외 주식 데이터(FinanceDataReader)"
   ]
  },
  {
   "cell_type": "code",
   "execution_count": 95,
   "metadata": {},
   "outputs": [
    {
     "data": {
      "text/html": [
       "<div>\n",
       "<style scoped>\n",
       "    .dataframe tbody tr th:only-of-type {\n",
       "        vertical-align: middle;\n",
       "    }\n",
       "\n",
       "    .dataframe tbody tr th {\n",
       "        vertical-align: top;\n",
       "    }\n",
       "\n",
       "    .dataframe thead th {\n",
       "        text-align: right;\n",
       "    }\n",
       "</style>\n",
       "<table border=\"1\" class=\"dataframe\">\n",
       "  <thead>\n",
       "    <tr style=\"text-align: right;\">\n",
       "      <th></th>\n",
       "      <th>Symbol</th>\n",
       "      <th>Market</th>\n",
       "      <th>Name</th>\n",
       "      <th>Sector</th>\n",
       "      <th>Industry</th>\n",
       "      <th>ListingDate</th>\n",
       "      <th>SettleMonth</th>\n",
       "      <th>Representative</th>\n",
       "      <th>HomePage</th>\n",
       "      <th>Region</th>\n",
       "    </tr>\n",
       "  </thead>\n",
       "  <tbody>\n",
       "    <tr>\n",
       "      <th>1</th>\n",
       "      <td>095570</td>\n",
       "      <td>KOSPI</td>\n",
       "      <td>AJ네트웍스</td>\n",
       "      <td>산업용 기계 및 장비 임대업</td>\n",
       "      <td>렌탈(파렛트, OA장비, 건설장비)</td>\n",
       "      <td>2015-08-21</td>\n",
       "      <td>12월</td>\n",
       "      <td>이현우</td>\n",
       "      <td>http://www.ajnet.co.kr</td>\n",
       "      <td>서울특별시</td>\n",
       "    </tr>\n",
       "    <tr>\n",
       "      <th>2</th>\n",
       "      <td>006840</td>\n",
       "      <td>KOSPI</td>\n",
       "      <td>AK홀딩스</td>\n",
       "      <td>기타 금융업</td>\n",
       "      <td>지주사업</td>\n",
       "      <td>1999-08-11</td>\n",
       "      <td>12월</td>\n",
       "      <td>채형석, 이석주(각자 대표이사)</td>\n",
       "      <td>http://www.aekyunggroup.co.kr</td>\n",
       "      <td>서울특별시</td>\n",
       "    </tr>\n",
       "    <tr>\n",
       "      <th>6</th>\n",
       "      <td>027410</td>\n",
       "      <td>KOSPI</td>\n",
       "      <td>BGF</td>\n",
       "      <td>기타 금융업</td>\n",
       "      <td>지주회사</td>\n",
       "      <td>2014-05-19</td>\n",
       "      <td>12월</td>\n",
       "      <td>홍정국</td>\n",
       "      <td>http://www.bgf.co.kr</td>\n",
       "      <td>서울특별시</td>\n",
       "    </tr>\n",
       "    <tr>\n",
       "      <th>7</th>\n",
       "      <td>282330</td>\n",
       "      <td>KOSPI</td>\n",
       "      <td>BGF리테일</td>\n",
       "      <td>종합 소매업</td>\n",
       "      <td>체인화 편의점</td>\n",
       "      <td>2017-12-08</td>\n",
       "      <td>12월</td>\n",
       "      <td>이건준</td>\n",
       "      <td>http://www.bgfretail.com</td>\n",
       "      <td>서울특별시</td>\n",
       "    </tr>\n",
       "    <tr>\n",
       "      <th>8</th>\n",
       "      <td>138930</td>\n",
       "      <td>KOSPI</td>\n",
       "      <td>BNK금융지주</td>\n",
       "      <td>기타 금융업</td>\n",
       "      <td>금융지주회사</td>\n",
       "      <td>2011-03-30</td>\n",
       "      <td>12월</td>\n",
       "      <td>김지완</td>\n",
       "      <td>http://www.bnkfg.com</td>\n",
       "      <td>부산광역시</td>\n",
       "    </tr>\n",
       "  </tbody>\n",
       "</table>\n",
       "</div>"
      ],
      "text/plain": [
       "   Symbol Market     Name           Sector             Industry ListingDate  \\\n",
       "1  095570  KOSPI   AJ네트웍스  산업용 기계 및 장비 임대업  렌탈(파렛트, OA장비, 건설장비)  2015-08-21   \n",
       "2  006840  KOSPI    AK홀딩스           기타 금융업                 지주사업  1999-08-11   \n",
       "6  027410  KOSPI      BGF           기타 금융업                 지주회사  2014-05-19   \n",
       "7  282330  KOSPI   BGF리테일           종합 소매업              체인화 편의점  2017-12-08   \n",
       "8  138930  KOSPI  BNK금융지주           기타 금융업               금융지주회사  2011-03-30   \n",
       "\n",
       "  SettleMonth     Representative                       HomePage Region  \n",
       "1         12월                이현우         http://www.ajnet.co.kr  서울특별시  \n",
       "2         12월  채형석, 이석주(각자 대표이사)  http://www.aekyunggroup.co.kr  서울특별시  \n",
       "6         12월                홍정국           http://www.bgf.co.kr  서울특별시  \n",
       "7         12월                이건준       http://www.bgfretail.com  서울특별시  \n",
       "8         12월                김지완           http://www.bnkfg.com  부산광역시  "
      ]
     },
     "execution_count": 95,
     "metadata": {},
     "output_type": "execute_result"
    }
   ],
   "source": [
    "import FinanceDataReader as fdr\n",
    "\n",
    "# KOSPI 종목 전체(KRX, KOSDAQ, KONEX, NASDAQ, NYSE, AMEX, SP500)\n",
    "kospi_cd = fdr.StockListing('KOSPI')\n",
    "kospi_cd.head()"
   ]
  },
  {
   "cell_type": "code",
   "execution_count": 96,
   "metadata": {},
   "outputs": [
    {
     "data": {
      "text/html": [
       "<div>\n",
       "<style scoped>\n",
       "    .dataframe tbody tr th:only-of-type {\n",
       "        vertical-align: middle;\n",
       "    }\n",
       "\n",
       "    .dataframe tbody tr th {\n",
       "        vertical-align: top;\n",
       "    }\n",
       "\n",
       "    .dataframe thead th {\n",
       "        text-align: right;\n",
       "    }\n",
       "</style>\n",
       "<table border=\"1\" class=\"dataframe\">\n",
       "  <thead>\n",
       "    <tr style=\"text-align: right;\">\n",
       "      <th></th>\n",
       "      <th>Symbol</th>\n",
       "      <th>Market</th>\n",
       "      <th>Name</th>\n",
       "      <th>Sector</th>\n",
       "      <th>Industry</th>\n",
       "      <th>ListingDate</th>\n",
       "      <th>SettleMonth</th>\n",
       "      <th>Representative</th>\n",
       "      <th>HomePage</th>\n",
       "      <th>Region</th>\n",
       "    </tr>\n",
       "  </thead>\n",
       "  <tbody>\n",
       "    <tr>\n",
       "      <th>963</th>\n",
       "      <td>005930</td>\n",
       "      <td>KOSPI</td>\n",
       "      <td>삼성전자</td>\n",
       "      <td>통신 및 방송 장비 제조업</td>\n",
       "      <td>IMT2000 서비스용 동기식 기지국,교환국장비,데이터단말기,동영상휴대폰,핵심칩,반...</td>\n",
       "      <td>1975-06-11</td>\n",
       "      <td>12월</td>\n",
       "      <td>김기남, 김현석, 고동진</td>\n",
       "      <td>http://www.sec.co.kr</td>\n",
       "      <td>경기도</td>\n",
       "    </tr>\n",
       "    <tr>\n",
       "      <th>964</th>\n",
       "      <td>005935</td>\n",
       "      <td>KOSPI</td>\n",
       "      <td>삼성전자우</td>\n",
       "      <td>NaN</td>\n",
       "      <td>NaN</td>\n",
       "      <td>NaT</td>\n",
       "      <td>NaN</td>\n",
       "      <td>NaN</td>\n",
       "      <td>NaN</td>\n",
       "      <td>NaN</td>\n",
       "    </tr>\n",
       "  </tbody>\n",
       "</table>\n",
       "</div>"
      ],
      "text/plain": [
       "     Symbol Market   Name          Sector  \\\n",
       "963  005930  KOSPI   삼성전자  통신 및 방송 장비 제조업   \n",
       "964  005935  KOSPI  삼성전자우             NaN   \n",
       "\n",
       "                                              Industry ListingDate  \\\n",
       "963  IMT2000 서비스용 동기식 기지국,교환국장비,데이터단말기,동영상휴대폰,핵심칩,반...  1975-06-11   \n",
       "964                                                NaN         NaT   \n",
       "\n",
       "    SettleMonth Representative              HomePage Region  \n",
       "963         12월  김기남, 김현석, 고동진  http://www.sec.co.kr    경기도  \n",
       "964         NaN            NaN                   NaN    NaN  "
      ]
     },
     "execution_count": 96,
     "metadata": {},
     "output_type": "execute_result"
    }
   ],
   "source": [
    "# 삼성전자 주가 데이터 수집\n",
    "kospi_cd.loc[kospi_cd[\"Name\"].str.find(\"삼성전자\")>-1]"
   ]
  },
  {
   "cell_type": "code",
   "execution_count": 99,
   "metadata": {},
   "outputs": [
    {
     "data": {
      "text/plain": [
       "<AxesSubplot:xlabel='Date', ylabel='Close'>"
      ]
     },
     "execution_count": 99,
     "metadata": {},
     "output_type": "execute_result"
    },
    {
     "data": {
      "image/png": "[encoded data removed]",
      "text/plain": [
       "<Figure size 432x288 with 1 Axes>"
      ]
     },
     "metadata": {
      "needs_background": "light"
     },
     "output_type": "display_data"
    }
   ],
   "source": [
    "df = fdr.DataReader(\"005930\", '2020')\n",
    "sns.lineplot(x=df.index, y=df[\"Close\"])"
   ]
  }
 ],
 "metadata": {
  "kernelspec": {
   "display_name": "Python 3",
   "language": "python",
   "name": "python3"
  },
  "language_info": {
   "codemirror_mode": {
    "name": "ipython",
    "version": 3
   },
   "file_extension": ".py",
   "mimetype": "text/x-python",
   "name": "python",
   "nbconvert_exporter": "python",
   "pygments_lexer": "ipython3",
   "version": "3.7.9"
  }
 },
 "nbformat": 4,
 "nbformat_minor": 2
}
